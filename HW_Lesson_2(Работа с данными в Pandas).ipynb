{
 "cells": [
  {
   "cell_type": "code",
   "execution_count": 31,
   "metadata": {},
   "outputs": [],
   "source": [
    "#Задание 1\n",
    "#####################################\n",
    "\n",
    "import pandas as pd\n",
    "authors = pd.DataFrame({\n",
    "  \"author_id\": [1, 2, 3],\n",
    "  \"author_name\": ['Тургенев', 'Чехов', 'Островский']\n",
    "})\n",
    "\n",
    "book = pd.DataFrame({\n",
    "  \"author_id\": [1, 1, 1, 2, 2, 3, 3],\n",
    "  \"book_title\": ['Отцы и дети', 'Рудин', 'Дворянское гнездо', 'Толстый и тонкий', 'Дама с собачкой', 'Гроза', 'Таланты ипоклонники'],\n",
    "  \"price\": [450, 300, 350, 500, 450, 370, 290]    \n",
    "})\n",
    "\n"
   ]
  },
  {
   "cell_type": "code",
   "execution_count": 32,
   "metadata": {},
   "outputs": [
    {
     "name": "stdout",
     "output_type": "stream",
     "text": [
      "   author_id author_name           book_title  price\n",
      "0          1    Тургенев          Отцы и дети    450\n",
      "1          1    Тургенев                Рудин    300\n",
      "2          1    Тургенев    Дворянское гнездо    350\n",
      "3          2       Чехов     Толстый и тонкий    500\n",
      "4          2       Чехов      Дама с собачкой    450\n",
      "5          3  Островский                Гроза    370\n",
      "6          3  Островский  Таланты ипоклонники    290\n"
     ]
    }
   ],
   "source": [
    "#Задание 2\n",
    "#####################################\n",
    "\n",
    "authors_price = pd.merge(authors, book, on='author_id', how='inner')\n",
    "print(authors_price)"
   ]
  },
  {
   "cell_type": "code",
   "execution_count": 38,
   "metadata": {},
   "outputs": [
    {
     "name": "stdout",
     "output_type": "stream",
     "text": [
      "   author_id author_name         book_title  price\n",
      "2          1    Тургенев  Дворянское гнездо    350\n",
      "5          3  Островский              Гроза    370\n",
      "0          1    Тургенев        Отцы и дети    450\n",
      "4          2       Чехов    Дама с собачкой    450\n",
      "3          2       Чехов   Толстый и тонкий    500\n"
     ]
    }
   ],
   "source": [
    "#Задание 3\n",
    "#####################################\n",
    "\n",
    "authors_price.sort_values(by=\"price\", inplace=True)\n",
    "top5 = authors_price.tail(5)\n",
    "\n",
    "print(top5)\n"
   ]
  },
  {
   "cell_type": "code",
   "execution_count": 63,
   "metadata": {},
   "outputs": [
    {
     "name": "stdout",
     "output_type": "stream",
     "text": [
      "                price                       \n",
      "            min_price max_price   mean_price\n",
      "author_name                                 \n",
      "Островский        290        370  330.000000\n",
      "Тургенев          300        450  366.666667\n",
      "Чехов             450        500  475.000000\n"
     ]
    }
   ],
   "source": [
    "#Задание 4\n",
    "#####################################\n",
    "\n",
    "t = authors_price.groupby('author_name').agg({'price': ['min', 'max', 'mean']})\n",
    "\n",
    "t.rename(columns={'min':'min_price', 'max':'max_price ', 'mean':'mean_price'}, inplace=True)\n",
    "\n",
    "\n",
    "print(t)"
   ]
  },
  {
   "cell_type": "code",
   "execution_count": null,
   "metadata": {},
   "outputs": [],
   "source": []
  }
 ],
 "metadata": {
  "kernelspec": {
   "display_name": "Python 3",
   "language": "python",
   "name": "python3"
  },
  "language_info": {
   "codemirror_mode": {
    "name": "ipython",
    "version": 3
   },
   "file_extension": ".py",
   "mimetype": "text/x-python",
   "name": "python",
   "nbconvert_exporter": "python",
   "pygments_lexer": "ipython3",
   "version": "3.6.10"
  }
 },
 "nbformat": 4,
 "nbformat_minor": 4
}
